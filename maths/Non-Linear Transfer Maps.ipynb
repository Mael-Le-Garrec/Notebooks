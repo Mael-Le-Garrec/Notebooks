{
 "cells": [
  {
   "cell_type": "markdown",
   "id": "11f72f11",
   "metadata": {},
   "source": [
    "# Non-Linear Transfer Maps\n",
    "\n",
    "This notebook computes transfer maps via the Lie Operator.\n",
    "\n",
    "The Lie operator is defined as:\n",
    "$$                                                                              \n",
    "  \\colon f \\colon = \\sum^n_{i=1} \\left(\\frac{\\partial f}{\\partial x_i} \\frac{\\partial}{\\partial p_i}\n",
    "                             - \\frac{\\partial f}{\\partial p_i} \\frac{\\partial}{\\partial x_i}\n",
    "                        \\right)                                                   \n",
    "$$        "
   ]
  },
  {
   "cell_type": "code",
   "execution_count": 452,
   "id": "b3403de7",
   "metadata": {},
   "outputs": [],
   "source": [
    "import sympy\n",
    "from sympy import symbols, Function, sqrt, cos, print_latex, diff, Matrix, Rational, Add, re, I\n",
    "from IPython.display import Markdown, Latex\n",
    "from functools import partial\n",
    "from math import factorial\n",
    "\n",
    "def poisson_bracket(planes, momenta, h1, h2):\n",
    "    '''\n",
    "    Returns [h1, h2]\n",
    "    parameter:\n",
    "        - planes: a vector of symbols for each dimension, eg. (x y)\n",
    "        - momenta: a vector of symbols for each momentum, eg (px, py)\n",
    "        - h1 and h2: whatever the poisson bracket needs to be applied on\n",
    "    '''\n",
    "    \n",
    "    res = 0\n",
    "    for i in range(len(planes)):\n",
    "        qi = planes[i]\n",
    "        pi = momenta[i]\n",
    "\n",
    "        res += diff(h1, qi) * diff(h2, pi) - diff(h1, pi) * diff(h2, qi)\n",
    "    return res"
   ]
  },
  {
   "cell_type": "markdown",
   "id": "b55a2518-aaec-42bd-ab96-59df6a5c6e4c",
   "metadata": {},
   "source": [
    "## Creating the transfer map"
   ]
  },
  {
   "cell_type": "code",
   "execution_count": 646,
   "id": "109dd402-232b-4533-8109-dbed16dbf7ad",
   "metadata": {},
   "outputs": [],
   "source": [
    "def transfer_map(elements, var, order):\n",
    "    \"\"\"\n",
    "    Returns the result of a map of hamiltonians acting on a variable (like x, px, etc)\n",
    "    The order is the order of the power series on the exponential e^{:f:}g = g + [f, g] + 1/2! [f, [f, g]] ...\n",
    "    \"\"\"\n",
    "\n",
    "    # first element (g)\n",
    "    g = var\n",
    "\n",
    "    # Iterate on each element and use the last ones as g\n",
    "    for i in range(len(elements)):\n",
    "        # Current element\n",
    "        f = elements[len(elements)-1-i]\n",
    "        \n",
    "        # Compute each order of the power series of the exponential\n",
    "        for i in range(order):\n",
    "            # Compute the power of poisson brackets (like :f:^2 g = [f, [f, g])\n",
    "            tmp = g\n",
    "            for _ in range(i+1):\n",
    "                tmp = pb(f, tmp)\n",
    "\n",
    "            # Add the the result\n",
    "            g += Rational(1, factorial(i+1)) * tmp\n",
    "\n",
    "    return g\n",
    "\n",
    "\n",
    "def get_terms(expr, term):\n",
    "    \"\"\"\n",
    "    Helper function to get a specific term in an expression\n",
    "    Example:\n",
    "        get_terms(\"ax + b - 5cx**2\", \"x**2\") returns \"-5cx**2\"\n",
    "    \"\"\"\n",
    "    return Add(*[argi for argi in expr.args if argi.has(term)])\n",
    "\n",
    "\n",
    "def get_like_expr(expr, multipole, var):\n",
    "    \"\"\"\n",
    "    Returns a \"magnet-like\" expression of a multipole differentiated by \"var\"\n",
    "    Example for x:\n",
    "        Returns x^3 - xy^2 for an octupole instead of x^4 - 6x^2y^2 + y^4\n",
    "    \"\"\"\n",
    "\n",
    "    expr_like = diff(multipole, var)\n",
    "\n",
    "    # Get the factors to remove them\n",
    "    monom_list = sympy.Poly(expr_like, x, y).monoms()\n",
    "    expr_like = sum([x**a*y**b for a, b in monom_list if a + b > 0]) \n",
    "\n",
    "    # Get the terms and sum them\n",
    "    return sum([get_terms(expr, term) for term in expr_like.args])\n",
    "    "
   ]
  },
  {
   "cell_type": "markdown",
   "id": "fe4c27a3-1b78-4fd3-9fb4-6094554468ed",
   "metadata": {},
   "source": [
    "## Definiting some hamiltonians"
   ]
  },
  {
   "cell_type": "code",
   "execution_count": 647,
   "id": "bc219893-fa40-445d-a7d7-8d57f4cb4abd",
   "metadata": {},
   "outputs": [],
   "source": [
    "# Symbols for coordinates\n",
    "x, px, y, py = symbols(\"x p_x y p_y\", real=True)\n",
    "\n",
    "# Create a partial function for it to be easier to use\n",
    "pb = partial(poisson_bracket, [x, y], [px, py])\n",
    "\n",
    "# Multipole strength, K1 = dipole\n",
    "K = {}\n",
    "for i in range(1, 8):\n",
    "    K[i] = symbols(f\"K_{i}\", real=True)\n",
    "\n",
    "def hamiltonian(n):\n",
    "    # Returns the normal hamiltonian (no skew)\n",
    "    return Rational(1, factorial(n)) * K[n] * re((x + I *y)**n)\n",
    "    \n",
    "# Each magnet now\n",
    "dipole = hamiltonian(1)\n",
    "quadrupole = hamiltonian(2)\n",
    "sextupole = hamiltonian(3)\n",
    "octupole = hamiltonian(4)\n",
    "decapole = hamiltonian(5)\n",
    "dodecapole = hamiltonian(6)"
   ]
  },
  {
   "cell_type": "markdown",
   "id": "0c7a1da7-54d8-4617-9879-ce5029450aed",
   "metadata": {},
   "source": [
    "## Defining elements"
   ]
  },
  {
   "cell_type": "code",
   "execution_count": 676,
   "id": "175f4f18",
   "metadata": {},
   "outputs": [
    {
     "data": {
      "text/latex": [
       "$\\displaystyle \\frac{K_{3,h1} \\left(x^{3} - 3 x y^{2}\\right)}{6}$"
      ],
      "text/plain": [
       "K_{3,h1}*(x**3 - 3*x*y**2)/6"
      ]
     },
     "metadata": {},
     "output_type": "display_data"
    },
    {
     "data": {
      "text/latex": [
       "$\\displaystyle \\frac{K_{3,h2} \\left(x^{3} - 3 x y^{2}\\right)}{6}$"
      ],
      "text/plain": [
       "K_{3,h2}*(x**3 - 3*x*y**2)/6"
      ]
     },
     "metadata": {},
     "output_type": "display_data"
    },
    {
     "data": {
      "text/latex": [
       "$\\displaystyle - \\frac{L \\left(p_{x}^{2} + p_{y}^{2}\\right)}{2}$"
      ],
      "text/plain": [
       "-L*(p_x**2 + p_y**2)/2"
      ]
     },
     "metadata": {},
     "output_type": "display_data"
    }
   ],
   "source": [
    "# Length of drift\n",
    "L = symbols(\"L\")\n",
    "\n",
    "# K3 strength for each sextupole\n",
    "K3_1 = symbols(\"K_{3\\,h1}\", real=True)\n",
    "K3_2 = symbols(\"K_{3\\,h2}\", real=True)\n",
    "\n",
    "# Hamiltonians\n",
    "h1 = sextupole.subs(K[3], K3_1)\n",
    "h2 = sextupole.subs(K[3], K3_2)\n",
    "d1 = -Rational(1,2) * L * (px**2 + py**2)  # drift\n",
    "\n",
    "display(h1)\n",
    "display(h2)\n",
    "display(d1)\n",
    "\n",
    "# List of elements to be added together\n",
    "elements = [h1, d1, h2]\n"
   ]
  },
  {
   "cell_type": "markdown",
   "id": "2dffc7e9-74a7-492d-83c8-3acc10e6b770",
   "metadata": {},
   "source": [
    "## Final Transfer Map"
   ]
  },
  {
   "cell_type": "code",
   "execution_count": 677,
   "id": "e0a3fcee-c7f7-4caf-8881-3095b6b39dbd",
   "metadata": {},
   "outputs": [
    {
     "data": {
      "text/markdown": [
       "### Map to the order 0:"
      ],
      "text/plain": [
       "<IPython.core.display.Markdown object>"
      ]
     },
     "metadata": {},
     "output_type": "display_data"
    },
    {
     "data": {
      "text/latex": [
       "$\\displaystyle p_{x}$"
      ],
      "text/plain": [
       "p_x"
      ]
     },
     "metadata": {},
     "output_type": "display_data"
    }
   ],
   "source": [
    "# Applied the transfer map on px\n",
    "# Order 0 => no effect on any coordinate\n",
    "display(Markdown(\"### Map to the order 0:\"))\n",
    "map = transfer_map(elements, px, order=0).expand()\n",
    "display(map)"
   ]
  },
  {
   "cell_type": "code",
   "execution_count": 681,
   "id": "28b5b730-43c1-43bf-af2a-67ec16b77b30",
   "metadata": {},
   "outputs": [
    {
     "data": {
      "text/markdown": [
       "### Map to the order 1:"
      ],
      "text/plain": [
       "<IPython.core.display.Markdown object>"
      ]
     },
     "metadata": {},
     "output_type": "display_data"
    },
    {
     "data": {
      "text/latex": [
       "$\\displaystyle \\frac{K_{3,h1} K_{3,h2} L x^{3}}{2} + \\frac{K_{3,h1} K_{3,h2} L x y^{2}}{2} + \\frac{K_{3,h1} x^{2}}{2} - \\frac{K_{3,h1} y^{2}}{2} + K_{3,h2} L p_{x} x - K_{3,h2} L p_{y} y + \\frac{K_{3,h2} x^{2}}{2} - \\frac{K_{3,h2} y^{2}}{2} + p_{x}$"
      ],
      "text/plain": [
       "K_{3,h1}*K_{3,h2}*L*x**3/2 + K_{3,h1}*K_{3,h2}*L*x*y**2/2 + K_{3,h1}*x**2/2 - K_{3,h1}*y**2/2 + K_{3,h2}*L*p_x*x - K_{3,h2}*L*p_y*y + K_{3,h2}*x**2/2 - K_{3,h2}*y**2/2 + p_x"
      ]
     },
     "metadata": {},
     "output_type": "display_data"
    },
    {
     "data": {
      "text/markdown": [
       "#### Octupolar component:"
      ],
      "text/plain": [
       "<IPython.core.display.Markdown object>"
      ]
     },
     "metadata": {},
     "output_type": "display_data"
    },
    {
     "data": {
      "text/latex": [
       "$\\displaystyle \\frac{K_{3,h1} K_{3,h2} L x^{3}}{2} + \\frac{K_{3,h1} K_{3,h2} L x y^{2}}{2}$"
      ],
      "text/plain": [
       "K_{3,h1}*K_{3,h2}*L*x**3/2 + K_{3,h1}*K_{3,h2}*L*x*y**2/2"
      ]
     },
     "metadata": {},
     "output_type": "display_data"
    }
   ],
   "source": [
    "# Applied the transfer map on px\n",
    "# Order 1\n",
    "display(Markdown(\"### Map to the order 1:\"))\n",
    "map = transfer_map(elements, px, order=1).expand()\n",
    "display(map)\n",
    "\n",
    "display(Markdown(\"#### Octupolar component:\"))\n",
    "display(get_like_expr(map, octupole, x))"
   ]
  },
  {
   "cell_type": "code",
   "execution_count": 682,
   "id": "2df34201-9832-4c15-818b-8b219d31b81b",
   "metadata": {},
   "outputs": [
    {
     "data": {
      "text/markdown": [
       "### Map to the order 2:"
      ],
      "text/plain": [
       "<IPython.core.display.Markdown object>"
      ]
     },
     "metadata": {},
     "output_type": "display_data"
    },
    {
     "data": {
      "text/latex": [
       "$\\displaystyle \\frac{K_{3,h1}^{2} K_{3,h2} L^{2} x^{4}}{8} - \\frac{3 K_{3,h1}^{2} K_{3,h2} L^{2} x^{2} y^{2}}{4} + \\frac{K_{3,h1}^{2} K_{3,h2} L^{2} y^{4}}{8} + \\frac{K_{3,h1} K_{3,h2} L^{2} p_{x} x^{2}}{2} - \\frac{K_{3,h1} K_{3,h2} L^{2} p_{x} y^{2}}{2} + K_{3,h1} K_{3,h2} L^{2} p_{y} x y + \\frac{K_{3,h1} K_{3,h2} L x^{3}}{2} + \\frac{K_{3,h1} K_{3,h2} L x y^{2}}{2} + \\frac{K_{3,h1} x^{2}}{2} - \\frac{K_{3,h1} y^{2}}{2} + \\frac{K_{3,h2} L^{2} p_{x}^{2}}{2} - \\frac{K_{3,h2} L^{2} p_{y}^{2}}{2} + K_{3,h2} L p_{x} x - K_{3,h2} L p_{y} y + \\frac{K_{3,h2} x^{2}}{2} - \\frac{K_{3,h2} y^{2}}{2} + p_{x}$"
      ],
      "text/plain": [
       "K_{3,h1}**2*K_{3,h2}*L**2*x**4/8 - 3*K_{3,h1}**2*K_{3,h2}*L**2*x**2*y**2/4 + K_{3,h1}**2*K_{3,h2}*L**2*y**4/8 + K_{3,h1}*K_{3,h2}*L**2*p_x*x**2/2 - K_{3,h1}*K_{3,h2}*L**2*p_x*y**2/2 + K_{3,h1}*K_{3,h2}*L**2*p_y*x*y + K_{3,h1}*K_{3,h2}*L*x**3/2 + K_{3,h1}*K_{3,h2}*L*x*y**2/2 + K_{3,h1}*x**2/2 - K_{3,h1}*y**2/2 + K_{3,h2}*L**2*p_x**2/2 - K_{3,h2}*L**2*p_y**2/2 + K_{3,h2}*L*p_x*x - K_{3,h2}*L*p_y*y + K_{3,h2}*x**2/2 - K_{3,h2}*y**2/2 + p_x"
      ]
     },
     "metadata": {},
     "output_type": "display_data"
    },
    {
     "data": {
      "text/markdown": [
       "#### Decapolar component:"
      ],
      "text/plain": [
       "<IPython.core.display.Markdown object>"
      ]
     },
     "metadata": {},
     "output_type": "display_data"
    },
    {
     "data": {
      "text/latex": [
       "$\\displaystyle \\frac{K_{3,h1}^{2} K_{3,h2} L^{2} x^{4}}{8} - \\frac{3 K_{3,h1}^{2} K_{3,h2} L^{2} x^{2} y^{2}}{4} + \\frac{K_{3,h1}^{2} K_{3,h2} L^{2} y^{4}}{8}$"
      ],
      "text/plain": [
       "K_{3,h1}**2*K_{3,h2}*L**2*x**4/8 - 3*K_{3,h1}**2*K_{3,h2}*L**2*x**2*y**2/4 + K_{3,h1}**2*K_{3,h2}*L**2*y**4/8"
      ]
     },
     "metadata": {},
     "output_type": "display_data"
    }
   ],
   "source": [
    "# Applied the transfer map on px\n",
    "# Order 2\n",
    "display(Markdown(\"### Map to the order 2:\"))\n",
    "map = transfer_map(elements, px, order=2).expand()\n",
    "display(map)\n",
    "\n",
    "# Look at the decapolar like terms: d(x^5 - 10x^3y^2 + 5xy^4) / dx\n",
    "display(Markdown(\"#### Decapolar component:\"))\n",
    "display(get_like_expr(map, decapole, x))"
   ]
  },
  {
   "cell_type": "code",
   "execution_count": 680,
   "id": "96d357db-0342-4b4e-915e-e4d1b1c7f09d",
   "metadata": {},
   "outputs": [
    {
     "data": {
      "text/markdown": [
       "### Map to the order 3:"
      ],
      "text/plain": [
       "<IPython.core.display.Markdown object>"
      ]
     },
     "metadata": {},
     "output_type": "display_data"
    },
    {
     "name": "stdout",
     "output_type": "stream",
     "text": [
      "Up to order 2 == Up to order 3:  True\n"
     ]
    }
   ],
   "source": [
    "# Applied the transfer map on px\n",
    "# Order 3 => no difference from order 2\n",
    "display(Markdown(\"### Map to the order 3:\"))\n",
    "print(\"Up to order 2 == Up to order 3: \", transfer_map(elements, px, order=2) == transfer_map(elements, px, order=3))"
   ]
  },
  {
   "cell_type": "markdown",
   "id": "c04d0083-171e-4fcf-9e5a-dc6bfcfd93a7",
   "metadata": {},
   "source": [
    "## Tests"
   ]
  },
  {
   "cell_type": "code",
   "execution_count": 649,
   "id": "7efc3935-b5b0-45f0-9986-5816f043195e",
   "metadata": {},
   "outputs": [
    {
     "data": {
      "text/latex": [
       "$\\displaystyle \\frac{K_{3,h1} K_{3,h2} L x^{3}}{2} + \\frac{K_{3,h1} K_{3,h2} L x y^{2}}{2} + \\frac{K_{3,h1} x^{2}}{2} - \\frac{K_{3,h1} y^{2}}{2} + K_{3,h2} L p_{x} x - K_{3,h2} L p_{y} y + \\frac{K_{3,h2} x^{2}}{2} - \\frac{K_{3,h2} y^{2}}{2} + p_{x}$"
      ],
      "text/plain": [
       "K_{3,h1}*K_{3,h2}*L*x**3/2 + K_{3,h1}*K_{3,h2}*L*x*y**2/2 + K_{3,h1}*x**2/2 - K_{3,h1}*y**2/2 + K_{3,h2}*L*p_x*x - K_{3,h2}*L*p_y*y + K_{3,h2}*x**2/2 - K_{3,h2}*y**2/2 + p_x"
      ]
     },
     "metadata": {},
     "output_type": "display_data"
    }
   ],
   "source": [
    "# Manual transfer map of the elements to order 1\n",
    "e1 = px + pb(h2, px)\n",
    "e2 = e1 + pb(d1, e1)\n",
    "e3 = e2 + pb(h1, e2)\n",
    "\n",
    "# Same as transfer_map(elements, px, order=1)\n",
    "display(e3.expand()) "
   ]
  },
  {
   "cell_type": "code",
   "execution_count": 653,
   "id": "a7c70959-430c-4b65-9e46-07e00b6b8c94",
   "metadata": {},
   "outputs": [
    {
     "data": {
      "text/latex": [
       "$\\displaystyle - K_{3} x y$"
      ],
      "text/plain": [
       "-K_3*x*y"
      ]
     },
     "execution_count": 653,
     "metadata": {},
     "output_type": "execute_result"
    }
   ],
   "source": [
    "pb(sextupole, py)"
   ]
  },
  {
   "cell_type": "code",
   "execution_count": 667,
   "id": "8afbb643-e339-45c8-89ee-f7983a1f0fc5",
   "metadata": {},
   "outputs": [
    {
     "data": {
      "text/latex": [
       "$\\displaystyle 0$"
      ],
      "text/plain": [
       "0"
      ]
     },
     "execution_count": 667,
     "metadata": {},
     "output_type": "execute_result"
    }
   ],
   "source": [
    "pb(h1, pb(h1, px))"
   ]
  },
  {
   "cell_type": "code",
   "execution_count": 664,
   "id": "a664a781-bbd2-4211-bd43-f87bc570d7ce",
   "metadata": {},
   "outputs": [
    {
     "data": {
      "text/latex": [
       "$\\displaystyle \\frac{K_{3,h1} \\cdot \\left(3 x^{2} - 3 y^{2}\\right)}{6} + p_{x}$"
      ],
      "text/plain": [
       "K_{3,h1}*(3*x**2 - 3*y**2)/6 + p_x"
      ]
     },
     "execution_count": 664,
     "metadata": {},
     "output_type": "execute_result"
    }
   ],
   "source": [
    "px + pb(h1, px)"
   ]
  },
  {
   "cell_type": "code",
   "execution_count": null,
   "id": "c3258dd6-5989-4236-8c0f-13fc685baac3",
   "metadata": {},
   "outputs": [],
   "source": []
  }
 ],
 "metadata": {
  "kernelspec": {
   "display_name": "local_venv",
   "language": "python",
   "name": "local_venv"
  },
  "language_info": {
   "codemirror_mode": {
    "name": "ipython",
    "version": 3
   },
   "file_extension": ".py",
   "mimetype": "text/x-python",
   "name": "python",
   "nbconvert_exporter": "python",
   "pygments_lexer": "ipython3",
   "version": "3.11.8"
  }
 },
 "nbformat": 4,
 "nbformat_minor": 5
}
