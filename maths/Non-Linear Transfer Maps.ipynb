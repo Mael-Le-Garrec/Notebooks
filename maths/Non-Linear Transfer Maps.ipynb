{
 "cells": [
  {
   "cell_type": "markdown",
   "id": "11f72f11",
   "metadata": {},
   "source": [
    "# Non-Linear Transfer Maps\n",
    "\n",
    "This notebook computes transfer maps via the Lie Operator.\n",
    "\n",
    "The Lie operator is defined as:\n",
    "$$                                                                              \n",
    "  \\colon f \\colon = \\sum^n_{i=1} \\left(\\frac{\\partial f}{\\partial x_i} \\frac{\\partial}{\\partial p_i}\n",
    "                             - \\frac{\\partial f}{\\partial p_i} \\frac{\\partial}{\\partial x_i}\n",
    "                        \\right)                                                   \n",
    "$$        "
   ]
  },
  {
   "cell_type": "code",
   "execution_count": 20,
   "id": "b3403de7",
   "metadata": {},
   "outputs": [],
   "source": [
    "import sympy\n",
    "from sympy import symbols, Function\n",
    "\n",
    "def poisson_bracket(planes, momenta, f, g):\n",
    "    '''\n",
    "    Returns [f, g], which is equal to :f:g\n",
    "    parameter:\n",
    "        - planes: a vector of symbols for each dimension, eg. (x y)\n",
    "        - momenta: a vector of symbols for each momentum, eg (px, py)\n",
    "        - f and g: whatever the poisson bracket needs to be applied on\n",
    "    '''\n",
    "    \n",
    "    res = 0\n",
    "    for i in range(len(planes)):\n",
    "        res += sympy.diff(f, planes[i]) * sympy.diff(g, momenta[i])\n",
    "        res -= sympy.diff(f, momenta[i]) * sympy.diff(g, planes[i])\n",
    "        \n",
    "    return res"
   ]
  },
  {
   "cell_type": "markdown",
   "id": "b55a2518-aaec-42bd-ab96-59df6a5c6e4c",
   "metadata": {},
   "source": [
    "## Adding hamiltonians"
   ]
  },
  {
   "cell_type": "code",
   "execution_count": null,
   "id": "109dd402-232b-4533-8109-dbed16dbf7ad",
   "metadata": {},
   "outputs": [],
   "source": [
    "def add_hamiltonian(X, Y, order):\n",
    "    H = X + Y\n",
    "    if order >= 2:\n",
    "        H + 1/2 * poisson_bracket"
   ]
  },
  {
   "cell_type": "code",
   "execution_count": 27,
   "id": "d54ce8d1",
   "metadata": {},
   "outputs": [
    {
     "data": {
      "text/latex": [
       "$\\displaystyle - \\frac{\\partial}{\\partial p_{x}} f{\\left(x,y,p_{x},p_{y} \\right)}$"
      ],
      "text/plain": [
       "-Derivative(f(x, y, p_x, p_y), p_x)"
      ]
     },
     "execution_count": 27,
     "metadata": {},
     "output_type": "execute_result"
    }
   ],
   "source": [
    "x, px, y, py = symbols(\"x p_x y p_y\")\n",
    "K_3 = symbols('K_3')\n",
    "q, p_0 = symbols('q P_0')\n",
    "\n",
    "H = 1/6 * K_3 * (x**3 - 3*x*y**2)\n",
    "\n",
    "print(H+H)\n",
    "\n",
    "poisson_bracket([x, y], [px, py], f, x)"
   ]
  },
  {
   "cell_type": "code",
   "execution_count": null,
   "id": "175f4f18",
   "metadata": {},
   "outputs": [],
   "source": []
  }
 ],
 "metadata": {
  "kernelspec": {
   "display_name": "Full_Jupyter_Venv",
   "language": "python",
   "name": "full_jupyter_venv"
  },
  "language_info": {
   "codemirror_mode": {
    "name": "ipython",
    "version": 3
   },
   "file_extension": ".py",
   "mimetype": "text/x-python",
   "name": "python",
   "nbconvert_exporter": "python",
   "pygments_lexer": "ipython3",
   "version": "3.10.9"
  }
 },
 "nbformat": 4,
 "nbformat_minor": 5
}
